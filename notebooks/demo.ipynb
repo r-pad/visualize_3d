{
 "cells": [
  {
   "cell_type": "code",
   "execution_count": null,
   "id": "b33ff769-97fd-4ae0-a993-b61f02d7ae71",
   "metadata": {
    "pycharm": {
     "name": "#%%\n"
    }
   },
   "outputs": [],
   "source": [
    "%load_ext autoreload\n",
    "%autoreload 2"
   ]
  },
  {
   "cell_type": "code",
   "execution_count": null,
   "id": "c4b4e937-2c3e-4791-b8a6-20628bab51f7",
   "metadata": {
    "pycharm": {
     "name": "#%%\n"
    }
   },
   "outputs": [],
   "source": [
    "import numpy as np\n",
    "import rpad.visualize_3d.plots as vpl"
   ]
  },
  {
   "cell_type": "code",
   "execution_count": null,
   "id": "f69a78f9-b254-4238-9270-90a53bedbbec",
   "metadata": {
    "pycharm": {
     "name": "#%%\n"
    }
   },
   "outputs": [],
   "source": [
    "pc = np.random.random((1000, 3))"
   ]
  },
  {
   "cell_type": "code",
   "execution_count": null,
   "id": "b5d3677c-7b41-441d-9968-ca623465d385",
   "metadata": {
    "pycharm": {
     "name": "#%%\n"
    }
   },
   "outputs": [],
   "source": [
    "vpl.pointcloud_fig(pc)"
   ]
  },
  {
   "cell_type": "code",
   "execution_count": null,
   "id": "d8e9451a-2cd1-4563-809e-7ebcd971f8c1",
   "metadata": {
    "pycharm": {
     "name": "#%%\n"
    }
   },
   "outputs": [],
   "source": [
    "labels = np.random.randint(4, size=(1000,))\n",
    "labelmap = {0: \"this\", 1: \"is\", 2: \"a\", 3: \"label\"}"
   ]
  },
  {
   "cell_type": "code",
   "execution_count": null,
   "id": "920acf7c-e197-430f-9c10-4f20fabc996f",
   "metadata": {
    "pycharm": {
     "name": "#%%\n"
    }
   },
   "outputs": [],
   "source": [
    "vpl.segmentation_fig(pc, labels, labelmap=labelmap)"
   ]
  },
  {
   "cell_type": "code",
   "execution_count": null,
   "id": "99a42c3a-7a44-41f6-830f-1437e2d2e3ce",
   "metadata": {
    "pycharm": {
     "name": "#%%\n"
    }
   },
   "outputs": [],
   "source": [
    "flows = np.random.random((1000, 3))"
   ]
  },
  {
   "cell_type": "code",
   "execution_count": null,
   "id": "59dde898-4b26-490b-8ef0-1b26093abc9b",
   "metadata": {
    "pycharm": {
     "name": "#%%\n"
    }
   },
   "outputs": [],
   "source": [
    "vpl.flow_fig(pc, flows, flowscale=0.1)"
   ]
  },
  {
   "cell_type": "code",
   "execution_count": null,
   "id": "683cefb1-ef4e-4439-ac67-d1a40cb54bba",
   "metadata": {
    "pycharm": {
     "name": "#%%\n"
    }
   },
   "outputs": [],
   "source": []
  }
 ],
 "metadata": {
  "kernelspec": {
   "display_name": "Python 3.10.5 64-bit ('3.10.5')",
   "language": "python",
   "name": "python3"
  },
  "language_info": {
   "codemirror_mode": {
    "name": "ipython",
    "version": 3
   },
   "file_extension": ".py",
   "mimetype": "text/x-python",
   "name": "python",
   "nbconvert_exporter": "python",
   "pygments_lexer": "ipython3",
   "version": "3.10.5"
  },
  "vscode": {
   "interpreter": {
    "hash": "bb0a6ac2773efacf199c5e80d0e7700a41e986107148b6401ddbd25b81df6690"
   }
  }
 },
 "nbformat": 4,
 "nbformat_minor": 5
}
